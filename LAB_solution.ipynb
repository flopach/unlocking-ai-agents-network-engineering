{
 "cells": [
  {
   "cell_type": "markdown",
   "metadata": {
    "editable": true,
    "slideshow": {
     "slide_type": ""
    },
    "tags": []
   },
   "source": [
    "# Unlocking AI Agents for Network Engineering"
   ]
  },
  {
   "cell_type": "markdown",
   "metadata": {},
   "source": [
    "This (Jupyter Notebook) is an interactive coding environment that lets you write and run Python code in a web-based interface. Simply click on the play button or [SHIFT]+[ENTER] to execute the cell."
   ]
  },
  {
   "cell_type": "markdown",
   "metadata": {},
   "source": [
    "## 1. Connectivity"
   ]
  },
  {
   "cell_type": "markdown",
   "metadata": {},
   "source": [
    "### Catalyst Router (IOS XE)"
   ]
  },
  {
   "cell_type": "markdown",
   "metadata": {},
   "source": [
    "In this lab we use the Catalyst 8000V IOS XE sandbox. Alternatively, you can also use the always-on sandbox.\n",
    "\n",
    "1. Connect with your VPN client to the sandbox environment.\n",
    "2. Open a terminal on the device and try to run a show-command to see if it works.\n",
    "3. During the lab the credentials are stored in the **hosts.json** file to simulate external credentials retrieval.\n",
    "\n",
    "\n",
    "**Hosts.json file content:**"
   ]
  },
  {
   "cell_type": "code",
   "execution_count": 1,
   "metadata": {
    "vscode": {
     "languageId": "javascript"
    }
   },
   "outputs": [
    {
     "data": {
      "text/plain": [
       "{'10.10.20.48': {'type': 'cisco catalyst ios xe',\n",
       "  'username': 'developer',\n",
       "  'password': 'C1sco12345'},\n",
       " 'devnetsandboxiosxe.cisco.com': {'type': 'cisco catalyst ios xe',\n",
       "  'username': 'admin',\n",
       "  'password': 'C1sco12345'}}"
      ]
     },
     "execution_count": 1,
     "metadata": {},
     "output_type": "execute_result"
    }
   ],
   "source": [
    "{\n",
    "    \"10.10.20.48\" : {\n",
    "            \"type\" : \"cisco catalyst ios xe\",\n",
    "            \"username\" : \"developer\",\n",
    "            \"password\" : \"C1sco12345\"\n",
    "        },\n",
    "    \"devnetsandboxiosxe.cisco.com\" : {\n",
    "            \"type\" : \"cisco catalyst ios xe\",\n",
    "            \"username\" : \"admin\",\n",
    "            \"password\" : \"C1sco12345\"\n",
    "        }\n",
    "}"
   ]
  },
  {
   "cell_type": "markdown",
   "metadata": {},
   "source": [
    "### Local Large Language Model (Ollama)"
   ]
  },
  {
   "cell_type": "markdown",
   "metadata": {},
   "source": [
    "Let's see how the local large language model is working and the duration time of the prompt execution."
   ]
  },
  {
   "cell_type": "code",
   "execution_count": 2,
   "metadata": {
    "vscode": {
     "languageId": "javascript"
    }
   },
   "outputs": [
    {
     "name": "stdout",
     "output_type": "stream",
     "text": [
      "To show all routes on a Cisco switch, you can use the `show ip route` command.\n",
      "\n",
      "Here's how to do it:\n",
      "\n",
      "1. Log in to your Cisco switch using your credentials.\n",
      "2. Access the privileged EXEC mode by typing `enable` and entering your enable password or secret key.\n",
      "3. Type `show ip route` in the command-line interface (CLI) to display all routes on the switch.\n",
      "\n",
      "Alternatively, you can use other commands like:\n",
      "\n",
      "* `show ip route vrf <vrf-name>`: To show routes for a specific VRF (Virtual Private Network).\n",
      "* `show ip route summary`: To summarize and display the routing table in a concise format.\n",
      "* `show ip route detail`: To display detailed information about each route.\n",
      "\n",
      "Note that you need to be in privileged EXEC mode (`#`) to execute these commands. If you're not sure which mode you're in, you can check by typing `sh prompt` or simply looking for the `#` symbol at the end of the command line.\n"
     ]
    }
   ],
   "source": [
    "from ollama import chat\n",
    "from ollama import ChatResponse\n",
    "\n",
    "# LLM input = system prompt + user prompt\n",
    "response: ChatResponse = chat(model = 'llama3.1', messages = [\n",
    "    {\n",
    "        'role': 'system',\n",
    "        'content': 'You are a helpful networking assistant.',\n",
    "    },\n",
    "    {\n",
    "        'role': 'user',\n",
    "        'content': 'How can I show all routes on a Cisco switch?',\n",
    "    }\n",
    "])\n",
    "\n",
    "# output\n",
    "print(response['message']['content'])"
   ]
  },
  {
   "cell_type": "markdown",
   "metadata": {},
   "source": [
    "## 2. Create Your First AI Agent with `smolagents`"
   ]
  },
  {
   "cell_type": "markdown",
   "metadata": {},
   "source": [
    "Let's start writing our first AI agent in this framework and learn more about its components."
   ]
  },
  {
   "cell_type": "code",
   "execution_count": 3,
   "metadata": {
    "vscode": {
     "languageId": "javascript"
    }
   },
   "outputs": [
    {
     "data": {
      "text/html": [
       "<pre style=\"white-space:pre;overflow-x:auto;line-height:normal;font-family:Menlo,'DejaVu Sans Mono',consolas,'Courier New',monospace\"><span style=\"color: #d4b702; text-decoration-color: #d4b702\">╭──────────────────────────────────────────────────── </span><span style=\"color: #d4b702; text-decoration-color: #d4b702; font-weight: bold\">New run</span><span style=\"color: #d4b702; text-decoration-color: #d4b702\"> ────────────────────────────────────────────────────╮</span>\n",
       "<span style=\"color: #d4b702; text-decoration-color: #d4b702\">│</span>                                                                                                                 <span style=\"color: #d4b702; text-decoration-color: #d4b702\">│</span>\n",
       "<span style=\"color: #d4b702; text-decoration-color: #d4b702\">│</span> <span style=\"font-weight: bold\">What does sh ip route do?</span>                                                                                       <span style=\"color: #d4b702; text-decoration-color: #d4b702\">│</span>\n",
       "<span style=\"color: #d4b702; text-decoration-color: #d4b702\">│</span>                                                                                                                 <span style=\"color: #d4b702; text-decoration-color: #d4b702\">│</span>\n",
       "<span style=\"color: #d4b702; text-decoration-color: #d4b702\">╰─ LiteLLMModel - ollama/qwen2.5 ─────────────────────────────────────────────────────────────────────────────────╯</span>\n",
       "</pre>\n"
      ],
      "text/plain": [
       "\u001b[38;2;212;183;2m╭─\u001b[0m\u001b[38;2;212;183;2m───────────────────────────────────────────────────\u001b[0m\u001b[38;2;212;183;2m \u001b[0m\u001b[1;38;2;212;183;2mNew run\u001b[0m\u001b[38;2;212;183;2m \u001b[0m\u001b[38;2;212;183;2m───────────────────────────────────────────────────\u001b[0m\u001b[38;2;212;183;2m─╮\u001b[0m\n",
       "\u001b[38;2;212;183;2m│\u001b[0m                                                                                                                 \u001b[38;2;212;183;2m│\u001b[0m\n",
       "\u001b[38;2;212;183;2m│\u001b[0m \u001b[1mWhat does sh ip route do?\u001b[0m                                                                                       \u001b[38;2;212;183;2m│\u001b[0m\n",
       "\u001b[38;2;212;183;2m│\u001b[0m                                                                                                                 \u001b[38;2;212;183;2m│\u001b[0m\n",
       "\u001b[38;2;212;183;2m╰─\u001b[0m\u001b[38;2;212;183;2m LiteLLMModel - ollama/qwen2.5 \u001b[0m\u001b[38;2;212;183;2m────────────────────────────────────────────────────────────────────────────────\u001b[0m\u001b[38;2;212;183;2m─╯\u001b[0m\n"
      ]
     },
     "metadata": {},
     "output_type": "display_data"
    },
    {
     "data": {
      "text/html": [
       "<pre style=\"white-space:pre;overflow-x:auto;line-height:normal;font-family:Menlo,'DejaVu Sans Mono',consolas,'Courier New',monospace\"><span style=\"color: #d4b702; text-decoration-color: #d4b702\">━━━━━━━━━━━━━━━━━━━━━━━━━━━━━━━━━━━━━━━━━━━━━━━━━━━━━ </span><span style=\"font-weight: bold\">Step </span><span style=\"color: #008080; text-decoration-color: #008080; font-weight: bold\">1</span><span style=\"color: #d4b702; text-decoration-color: #d4b702\"> ━━━━━━━━━━━━━━━━━━━━━━━━━━━━━━━━━━━━━━━━━━━━━━━━━━━━━━</span>\n",
       "</pre>\n"
      ],
      "text/plain": [
       "\u001b[38;2;212;183;2m━━━━━━━━━━━━━━━━━━━━━━━━━━━━━━━━━━━━━━━━━━━━━━━━━━━━━ \u001b[0m\u001b[1mStep \u001b[0m\u001b[1;36m1\u001b[0m\u001b[38;2;212;183;2m ━━━━━━━━━━━━━━━━━━━━━━━━━━━━━━━━━━━━━━━━━━━━━━━━━━━━━━\u001b[0m\n"
      ]
     },
     "metadata": {},
     "output_type": "display_data"
    },
    {
     "data": {
      "text/html": [
       "<pre style=\"white-space:pre;overflow-x:auto;line-height:normal;font-family:Menlo,'DejaVu Sans Mono',consolas,'Courier New',monospace\"> ─ <span style=\"font-weight: bold\">Executing parsed code:</span> ──────────────────────────────────────────────────────────────────────────────────────── \n",
       "  <span style=\"color: #f8f8f2; text-decoration-color: #f8f8f2; background-color: #272822\">final_answer(</span><span style=\"color: #e6db74; text-decoration-color: #e6db74; background-color: #272822\">\"The 'sh ip route' command in Cisco devices displays the current routing table. It shows which </span><span style=\"background-color: #272822\">   </span>  \n",
       "  <span style=\"color: #e6db74; text-decoration-color: #e6db74; background-color: #272822\">network routes are currently active and available for packets to be forwarded to their destinations. This </span><span style=\"background-color: #272822\">     </span>  \n",
       "  <span style=\"color: #e6db74; text-decoration-color: #e6db74; background-color: #272822\">includes directly connected networks (those with a Direct or Null route) as well as learned routes through </span><span style=\"background-color: #272822\">    </span>  \n",
       "  <span style=\"color: #e6db74; text-decoration-color: #e6db74; background-color: #272822\">dynamic routing protocols like OSPF, EIGRP, etc., or static routes.\"</span><span style=\"color: #f8f8f2; text-decoration-color: #f8f8f2; background-color: #272822\">)</span><span style=\"background-color: #272822\">                                          </span>  \n",
       " ───────────────────────────────────────────────────────────────────────────────────────────────────────────────── \n",
       "</pre>\n"
      ],
      "text/plain": [
       " ─ \u001b[1mExecuting parsed code:\u001b[0m ──────────────────────────────────────────────────────────────────────────────────────── \n",
       "  \u001b[38;2;248;248;242;48;2;39;40;34mfinal_answer\u001b[0m\u001b[38;2;248;248;242;48;2;39;40;34m(\u001b[0m\u001b[38;2;230;219;116;48;2;39;40;34m\"\u001b[0m\u001b[38;2;230;219;116;48;2;39;40;34mThe \u001b[0m\u001b[38;2;230;219;116;48;2;39;40;34m'\u001b[0m\u001b[38;2;230;219;116;48;2;39;40;34msh ip route\u001b[0m\u001b[38;2;230;219;116;48;2;39;40;34m'\u001b[0m\u001b[38;2;230;219;116;48;2;39;40;34m command in Cisco devices displays the current routing table. It shows which \u001b[0m\u001b[48;2;39;40;34m   \u001b[0m  \n",
       "  \u001b[38;2;230;219;116;48;2;39;40;34mnetwork routes are currently active and available for packets to be forwarded to their destinations. This \u001b[0m\u001b[48;2;39;40;34m     \u001b[0m  \n",
       "  \u001b[38;2;230;219;116;48;2;39;40;34mincludes directly connected networks (those with a Direct or Null route) as well as learned routes through \u001b[0m\u001b[48;2;39;40;34m    \u001b[0m  \n",
       "  \u001b[38;2;230;219;116;48;2;39;40;34mdynamic routing protocols like OSPF, EIGRP, etc., or static routes.\u001b[0m\u001b[38;2;230;219;116;48;2;39;40;34m\"\u001b[0m\u001b[38;2;248;248;242;48;2;39;40;34m)\u001b[0m\u001b[48;2;39;40;34m                                          \u001b[0m  \n",
       " ───────────────────────────────────────────────────────────────────────────────────────────────────────────────── \n"
      ]
     },
     "metadata": {},
     "output_type": "display_data"
    },
    {
     "data": {
      "text/html": [
       "<pre style=\"white-space:pre;overflow-x:auto;line-height:normal;font-family:Menlo,'DejaVu Sans Mono',consolas,'Courier New',monospace\"><span style=\"color: #d4b702; text-decoration-color: #d4b702; font-weight: bold\">Out - Final answer: The 'sh ip route' command in Cisco devices displays the current routing table. It shows which </span>\n",
       "<span style=\"color: #d4b702; text-decoration-color: #d4b702; font-weight: bold\">network routes are currently active and available for packets to be forwarded to their destinations. This includes </span>\n",
       "<span style=\"color: #d4b702; text-decoration-color: #d4b702; font-weight: bold\">directly connected networks (those with a Direct or Null route) as well as learned routes through dynamic routing </span>\n",
       "<span style=\"color: #d4b702; text-decoration-color: #d4b702; font-weight: bold\">protocols like OSPF, EIGRP, etc., or static routes.</span>\n",
       "</pre>\n"
      ],
      "text/plain": [
       "\u001b[1;38;2;212;183;2mOut - Final answer: The 'sh ip route' command in Cisco devices displays the current routing table. It shows which \u001b[0m\n",
       "\u001b[1;38;2;212;183;2mnetwork routes are currently active and available for packets to be forwarded to their destinations. This includes \u001b[0m\n",
       "\u001b[1;38;2;212;183;2mdirectly connected networks (those with a Direct or Null route) as well as learned routes through dynamic routing \u001b[0m\n",
       "\u001b[1;38;2;212;183;2mprotocols like OSPF, EIGRP, etc., or static routes.\u001b[0m\n"
      ]
     },
     "metadata": {},
     "output_type": "display_data"
    },
    {
     "data": {
      "text/html": [
       "<pre style=\"white-space:pre;overflow-x:auto;line-height:normal;font-family:Menlo,'DejaVu Sans Mono',consolas,'Courier New',monospace\"><span style=\"color: #7f7f7f; text-decoration-color: #7f7f7f\">[Step 0: Duration 21.84 seconds| Input tokens: 2,276 | Output tokens: 144]</span>\n",
       "</pre>\n"
      ],
      "text/plain": [
       "\u001b[2m[Step 0: Duration 21.84 seconds| Input tokens: 2,276 | Output tokens: 144]\u001b[0m\n"
      ]
     },
     "metadata": {},
     "output_type": "display_data"
    },
    {
     "data": {
      "text/plain": [
       "\"The 'sh ip route' command in Cisco devices displays the current routing table. It shows which network routes are currently active and available for packets to be forwarded to their destinations. This includes directly connected networks (those with a Direct or Null route) as well as learned routes through dynamic routing protocols like OSPF, EIGRP, etc., or static routes.\""
      ]
     },
     "execution_count": 3,
     "metadata": {},
     "output_type": "execute_result"
    }
   ],
   "source": [
    "from smolagents.agents import CodeAgent\n",
    "from smolagents import LiteLLMModel\n",
    "\n",
    "model = LiteLLMModel(model_id=\"ollama/qwen2.5\",\n",
    "                     num_ctx=8192\n",
    "                )\n",
    "\n",
    "device_agent = CodeAgent(\n",
    "                tools=[],\n",
    "                model=model\n",
    ")\n",
    "\n",
    "device_agent.run(\"What does sh ip route do?\")"
   ]
  },
  {
   "cell_type": "markdown",
   "metadata": {},
   "source": [
    "## 3. Important Building Blocks for AI Agents"
   ]
  },
  {
   "cell_type": "markdown",
   "metadata": {},
   "source": [
    "In order to understand AI agents, it is important to know these building blocks of AI agentic frameworks:\n",
    "\n",
    "* Understanding the Agentic Behavior using OpenTelemetry\n",
    "* Function/Tool Calling\n",
    "* Structured Output"
   ]
  },
  {
   "cell_type": "markdown",
   "metadata": {},
   "source": [
    "### 3.1 Using OpenTelemetry for Understanding & Debugging"
   ]
  },
  {
   "cell_type": "markdown",
   "metadata": {},
   "source": [
    "Start the OpenTelemetry server, access it at [http://0.0.0.0:6006/projects/](http://0.0.0.0:6006/projects/) and run this code below. The next time you are executing a smolagent, you will see data."
   ]
  },
  {
   "cell_type": "code",
   "execution_count": 4,
   "metadata": {
    "vscode": {
     "languageId": "javascript"
    }
   },
   "outputs": [],
   "source": [
    "# ================== TELEMETRY ==================\n",
    "from opentelemetry.sdk.trace import TracerProvider\n",
    "from openinference.instrumentation.smolagents import SmolagentsInstrumentor\n",
    "from opentelemetry.exporter.otlp.proto.http.trace_exporter import OTLPSpanExporter\n",
    "from opentelemetry.sdk.trace.export import SimpleSpanProcessor\n",
    "endpoint = \"http://0.0.0.0:6006/v1/traces\"\n",
    "trace_provider = TracerProvider()\n",
    "trace_provider.add_span_processor(SimpleSpanProcessor(OTLPSpanExporter(endpoint)))\n",
    "SmolagentsInstrumentor().instrument(tracer_provider=trace_provider)"
   ]
  },
  {
   "cell_type": "markdown",
   "metadata": {},
   "source": [
    "### 3.2. Function/Tool Calling with LLMs"
   ]
  },
  {
   "cell_type": "markdown",
   "metadata": {},
   "source": [
    "Let's extend our code and define these custom functions. Execute the following code which does not provide any output."
   ]
  },
  {
   "cell_type": "code",
   "execution_count": 5,
   "metadata": {
    "vscode": {
     "languageId": "javascript"
    }
   },
   "outputs": [],
   "source": [
    "from smolagents import tool\n",
    "\n",
    "@tool\n",
    "def get_username_password_for_device(ip_address:str) -> str:\n",
    "    \"\"\"\n",
    "    Returns the username and password separated by a comma for the given ip address or hostname.\n",
    "\n",
    "    Args:\n",
    "        ip_address: The IP address or hostname of the device\n",
    "\n",
    "    Returns:\n",
    "        str: A string with the username and password separated by a comma.\n",
    "    \"\"\"\n",
    "    import json\n",
    "    \n",
    "    with open(\"hosts.json\", 'r') as file:\n",
    "        devices = json.load(file)\n",
    "        return f\"{devices[ip_address]['username']},{devices[ip_address]['password']}\"\n",
    "\n",
    "@tool\n",
    "def show_ip_route(host:str,username:str,password:str,device_type:str = \"cisco_ios\",) -> str:\n",
    "    \"\"\"\n",
    "    Return the routing table of the device. Executes the command 'show ip route'.\n",
    "\n",
    "    Args:\n",
    "        host: The IP address or hostname of the device\n",
    "        username: The username for the device\n",
    "        password: The password for the device\n",
    "        device_type: The device type for the device\n",
    "\n",
    "    Returns:\n",
    "        str: The routing table of the device.\n",
    "    \"\"\"\n",
    "    from netmiko import ConnectHandler    \n",
    "                                                                                                          \n",
    "    device = {                                                                                                                                                                 \n",
    "        'ip': host,                                                                                                                                                   \n",
    "        'username': username,                                                                                                                                                  \n",
    "        'password': password,                                                                                                                                                  \n",
    "        'device_type': device_type                                                                                        \n",
    "    }                                                                                                                                                                          \n",
    "                                                                                                                                                                                \n",
    "    # Establish connection to the device                                                                                                                                       \n",
    "    connection = ConnectHandler(**device)                                                                                                                                                                                                                                                                                     \n",
    "                                                                                                                                                                                \n",
    "    # Execute command to retrieve running configuration                                                                                                                        \n",
    "    running_config_output = connection.send_command('show ip route')                                                                                                     \n",
    "                                                                                                                                                                                \n",
    "    return running_config_output"
   ]
  },
  {
   "cell_type": "markdown",
   "metadata": {},
   "source": [
    "Now, let's add these functions to the CodeAgent and authorize to import these Python libraries in the sandboxed Python environment of the agent. Let's run this example with the following prompt."
   ]
  },
  {
   "cell_type": "code",
   "execution_count": 6,
   "metadata": {
    "vscode": {
     "languageId": "javascript"
    }
   },
   "outputs": [
    {
     "data": {
      "text/html": [
       "<pre style=\"white-space:pre;overflow-x:auto;line-height:normal;font-family:Menlo,'DejaVu Sans Mono',consolas,'Courier New',monospace\"><span style=\"color: #d4b702; text-decoration-color: #d4b702\">╭──────────────────────────────────────────────────── </span><span style=\"color: #d4b702; text-decoration-color: #d4b702; font-weight: bold\">New run</span><span style=\"color: #d4b702; text-decoration-color: #d4b702\"> ────────────────────────────────────────────────────╮</span>\n",
       "<span style=\"color: #d4b702; text-decoration-color: #d4b702\">│</span>                                                                                                                 <span style=\"color: #d4b702; text-decoration-color: #d4b702\">│</span>\n",
       "<span style=\"color: #d4b702; text-decoration-color: #d4b702\">│</span> <span style=\"font-weight: bold\">Summarize the routing table on the Cisco device 10.10.20.48.</span>                                                    <span style=\"color: #d4b702; text-decoration-color: #d4b702\">│</span>\n",
       "<span style=\"color: #d4b702; text-decoration-color: #d4b702\">│</span> <span style=\"font-weight: bold\">                 Save it in the Markdown file 'routing_table_summary.md'.</span>                                       <span style=\"color: #d4b702; text-decoration-color: #d4b702\">│</span>\n",
       "<span style=\"color: #d4b702; text-decoration-color: #d4b702\">│</span> <span style=\"font-weight: bold\">                 You will at first need the username and password for the device.</span>                               <span style=\"color: #d4b702; text-decoration-color: #d4b702\">│</span>\n",
       "<span style=\"color: #d4b702; text-decoration-color: #d4b702\">│</span>                                                                                                                 <span style=\"color: #d4b702; text-decoration-color: #d4b702\">│</span>\n",
       "<span style=\"color: #d4b702; text-decoration-color: #d4b702\">╰─ LiteLLMModel - ollama/qwen2.5 ─────────────────────────────────────────────────────────────────────────────────╯</span>\n",
       "</pre>\n"
      ],
      "text/plain": [
       "\u001b[38;2;212;183;2m╭─\u001b[0m\u001b[38;2;212;183;2m───────────────────────────────────────────────────\u001b[0m\u001b[38;2;212;183;2m \u001b[0m\u001b[1;38;2;212;183;2mNew run\u001b[0m\u001b[38;2;212;183;2m \u001b[0m\u001b[38;2;212;183;2m───────────────────────────────────────────────────\u001b[0m\u001b[38;2;212;183;2m─╮\u001b[0m\n",
       "\u001b[38;2;212;183;2m│\u001b[0m                                                                                                                 \u001b[38;2;212;183;2m│\u001b[0m\n",
       "\u001b[38;2;212;183;2m│\u001b[0m \u001b[1mSummarize the routing table on the Cisco device 10.10.20.48.\u001b[0m                                                    \u001b[38;2;212;183;2m│\u001b[0m\n",
       "\u001b[38;2;212;183;2m│\u001b[0m \u001b[1m                 Save it in the Markdown file 'routing_table_summary.md'.\u001b[0m                                       \u001b[38;2;212;183;2m│\u001b[0m\n",
       "\u001b[38;2;212;183;2m│\u001b[0m \u001b[1m                 You will at first need the username and password for the device.\u001b[0m                               \u001b[38;2;212;183;2m│\u001b[0m\n",
       "\u001b[38;2;212;183;2m│\u001b[0m                                                                                                                 \u001b[38;2;212;183;2m│\u001b[0m\n",
       "\u001b[38;2;212;183;2m╰─\u001b[0m\u001b[38;2;212;183;2m LiteLLMModel - ollama/qwen2.5 \u001b[0m\u001b[38;2;212;183;2m────────────────────────────────────────────────────────────────────────────────\u001b[0m\u001b[38;2;212;183;2m─╯\u001b[0m\n"
      ]
     },
     "metadata": {},
     "output_type": "display_data"
    },
    {
     "data": {
      "text/html": [
       "<pre style=\"white-space:pre;overflow-x:auto;line-height:normal;font-family:Menlo,'DejaVu Sans Mono',consolas,'Courier New',monospace\"><span style=\"color: #d4b702; text-decoration-color: #d4b702\">━━━━━━━━━━━━━━━━━━━━━━━━━━━━━━━━━━━━━━━━━━━━━━━━━━━━━ </span><span style=\"font-weight: bold\">Step </span><span style=\"color: #008080; text-decoration-color: #008080; font-weight: bold\">1</span><span style=\"color: #d4b702; text-decoration-color: #d4b702\"> ━━━━━━━━━━━━━━━━━━━━━━━━━━━━━━━━━━━━━━━━━━━━━━━━━━━━━━</span>\n",
       "</pre>\n"
      ],
      "text/plain": [
       "\u001b[38;2;212;183;2m━━━━━━━━━━━━━━━━━━━━━━━━━━━━━━━━━━━━━━━━━━━━━━━━━━━━━ \u001b[0m\u001b[1mStep \u001b[0m\u001b[1;36m1\u001b[0m\u001b[38;2;212;183;2m ━━━━━━━━━━━━━━━━━━━━━━━━━━━━━━━━━━━━━━━━━━━━━━━━━━━━━━\u001b[0m\n"
      ]
     },
     "metadata": {},
     "output_type": "display_data"
    },
    {
     "data": {
      "text/html": [
       "<pre style=\"white-space:pre;overflow-x:auto;line-height:normal;font-family:Menlo,'DejaVu Sans Mono',consolas,'Courier New',monospace\"> ─ <span style=\"font-weight: bold\">Executing parsed code:</span> ──────────────────────────────────────────────────────────────────────────────────────── \n",
       "  <span style=\"color: #f8f8f2; text-decoration-color: #f8f8f2; background-color: #272822\">device_ip </span><span style=\"color: #ff4689; text-decoration-color: #ff4689; background-color: #272822\">=</span><span style=\"color: #f8f8f2; text-decoration-color: #f8f8f2; background-color: #272822\"> </span><span style=\"color: #e6db74; text-decoration-color: #e6db74; background-color: #272822\">\"10.10.20.48\"</span><span style=\"background-color: #272822\">                                                                                      </span>  \n",
       "  <span style=\"color: #f8f8f2; text-decoration-color: #f8f8f2; background-color: #272822\">credentials </span><span style=\"color: #ff4689; text-decoration-color: #ff4689; background-color: #272822\">=</span><span style=\"color: #f8f8f2; text-decoration-color: #f8f8f2; background-color: #272822\"> get_username_password_for_device(ip_address</span><span style=\"color: #ff4689; text-decoration-color: #ff4689; background-color: #272822\">=</span><span style=\"color: #f8f8f2; text-decoration-color: #f8f8f2; background-color: #272822\">device_ip)</span><span style=\"background-color: #272822\">                                           </span>  \n",
       "  <span style=\"color: #f8f8f2; text-decoration-color: #f8f8f2; background-color: #272822\">print(</span><span style=\"color: #e6db74; text-decoration-color: #e6db74; background-color: #272822\">f\"Username: {</span><span style=\"color: #f8f8f2; text-decoration-color: #f8f8f2; background-color: #272822\">credentials</span><span style=\"color: #ff4689; text-decoration-color: #ff4689; background-color: #272822\">.</span><span style=\"color: #f8f8f2; text-decoration-color: #f8f8f2; background-color: #272822\">split(</span><span style=\"color: #e6db74; text-decoration-color: #e6db74; background-color: #272822\">','</span><span style=\"color: #f8f8f2; text-decoration-color: #f8f8f2; background-color: #272822\">)[</span><span style=\"color: #ae81ff; text-decoration-color: #ae81ff; background-color: #272822\">0</span><span style=\"color: #f8f8f2; text-decoration-color: #f8f8f2; background-color: #272822\">]</span><span style=\"color: #e6db74; text-decoration-color: #e6db74; background-color: #272822\">}, Password: {</span><span style=\"color: #f8f8f2; text-decoration-color: #f8f8f2; background-color: #272822\">credentials</span><span style=\"color: #ff4689; text-decoration-color: #ff4689; background-color: #272822\">.</span><span style=\"color: #f8f8f2; text-decoration-color: #f8f8f2; background-color: #272822\">split(</span><span style=\"color: #e6db74; text-decoration-color: #e6db74; background-color: #272822\">','</span><span style=\"color: #f8f8f2; text-decoration-color: #f8f8f2; background-color: #272822\">)[</span><span style=\"color: #ae81ff; text-decoration-color: #ae81ff; background-color: #272822\">1</span><span style=\"color: #f8f8f2; text-decoration-color: #f8f8f2; background-color: #272822\">]</span><span style=\"color: #e6db74; text-decoration-color: #e6db74; background-color: #272822\">}\"</span><span style=\"color: #f8f8f2; text-decoration-color: #f8f8f2; background-color: #272822\">)</span><span style=\"background-color: #272822\">                         </span>  \n",
       " ───────────────────────────────────────────────────────────────────────────────────────────────────────────────── \n",
       "</pre>\n"
      ],
      "text/plain": [
       " ─ \u001b[1mExecuting parsed code:\u001b[0m ──────────────────────────────────────────────────────────────────────────────────────── \n",
       "  \u001b[38;2;248;248;242;48;2;39;40;34mdevice_ip\u001b[0m\u001b[38;2;248;248;242;48;2;39;40;34m \u001b[0m\u001b[38;2;255;70;137;48;2;39;40;34m=\u001b[0m\u001b[38;2;248;248;242;48;2;39;40;34m \u001b[0m\u001b[38;2;230;219;116;48;2;39;40;34m\"\u001b[0m\u001b[38;2;230;219;116;48;2;39;40;34m10.10.20.48\u001b[0m\u001b[38;2;230;219;116;48;2;39;40;34m\"\u001b[0m\u001b[48;2;39;40;34m                                                                                      \u001b[0m  \n",
       "  \u001b[38;2;248;248;242;48;2;39;40;34mcredentials\u001b[0m\u001b[38;2;248;248;242;48;2;39;40;34m \u001b[0m\u001b[38;2;255;70;137;48;2;39;40;34m=\u001b[0m\u001b[38;2;248;248;242;48;2;39;40;34m \u001b[0m\u001b[38;2;248;248;242;48;2;39;40;34mget_username_password_for_device\u001b[0m\u001b[38;2;248;248;242;48;2;39;40;34m(\u001b[0m\u001b[38;2;248;248;242;48;2;39;40;34mip_address\u001b[0m\u001b[38;2;255;70;137;48;2;39;40;34m=\u001b[0m\u001b[38;2;248;248;242;48;2;39;40;34mdevice_ip\u001b[0m\u001b[38;2;248;248;242;48;2;39;40;34m)\u001b[0m\u001b[48;2;39;40;34m                                           \u001b[0m  \n",
       "  \u001b[38;2;248;248;242;48;2;39;40;34mprint\u001b[0m\u001b[38;2;248;248;242;48;2;39;40;34m(\u001b[0m\u001b[38;2;230;219;116;48;2;39;40;34mf\u001b[0m\u001b[38;2;230;219;116;48;2;39;40;34m\"\u001b[0m\u001b[38;2;230;219;116;48;2;39;40;34mUsername: \u001b[0m\u001b[38;2;230;219;116;48;2;39;40;34m{\u001b[0m\u001b[38;2;248;248;242;48;2;39;40;34mcredentials\u001b[0m\u001b[38;2;255;70;137;48;2;39;40;34m.\u001b[0m\u001b[38;2;248;248;242;48;2;39;40;34msplit\u001b[0m\u001b[38;2;248;248;242;48;2;39;40;34m(\u001b[0m\u001b[38;2;230;219;116;48;2;39;40;34m'\u001b[0m\u001b[38;2;230;219;116;48;2;39;40;34m,\u001b[0m\u001b[38;2;230;219;116;48;2;39;40;34m'\u001b[0m\u001b[38;2;248;248;242;48;2;39;40;34m)\u001b[0m\u001b[38;2;248;248;242;48;2;39;40;34m[\u001b[0m\u001b[38;2;174;129;255;48;2;39;40;34m0\u001b[0m\u001b[38;2;248;248;242;48;2;39;40;34m]\u001b[0m\u001b[38;2;230;219;116;48;2;39;40;34m}\u001b[0m\u001b[38;2;230;219;116;48;2;39;40;34m, Password: \u001b[0m\u001b[38;2;230;219;116;48;2;39;40;34m{\u001b[0m\u001b[38;2;248;248;242;48;2;39;40;34mcredentials\u001b[0m\u001b[38;2;255;70;137;48;2;39;40;34m.\u001b[0m\u001b[38;2;248;248;242;48;2;39;40;34msplit\u001b[0m\u001b[38;2;248;248;242;48;2;39;40;34m(\u001b[0m\u001b[38;2;230;219;116;48;2;39;40;34m'\u001b[0m\u001b[38;2;230;219;116;48;2;39;40;34m,\u001b[0m\u001b[38;2;230;219;116;48;2;39;40;34m'\u001b[0m\u001b[38;2;248;248;242;48;2;39;40;34m)\u001b[0m\u001b[38;2;248;248;242;48;2;39;40;34m[\u001b[0m\u001b[38;2;174;129;255;48;2;39;40;34m1\u001b[0m\u001b[38;2;248;248;242;48;2;39;40;34m]\u001b[0m\u001b[38;2;230;219;116;48;2;39;40;34m}\u001b[0m\u001b[38;2;230;219;116;48;2;39;40;34m\"\u001b[0m\u001b[38;2;248;248;242;48;2;39;40;34m)\u001b[0m\u001b[48;2;39;40;34m                         \u001b[0m  \n",
       " ───────────────────────────────────────────────────────────────────────────────────────────────────────────────── \n"
      ]
     },
     "metadata": {},
     "output_type": "display_data"
    },
    {
     "data": {
      "text/html": [
       "<pre style=\"white-space:pre;overflow-x:auto;line-height:normal;font-family:Menlo,'DejaVu Sans Mono',consolas,'Courier New',monospace\"><span style=\"font-weight: bold\">Execution logs:</span>\n",
       "Username: developer, Password: C1sco12345\n",
       "\n",
       "Out: None\n",
       "</pre>\n"
      ],
      "text/plain": [
       "\u001b[1mExecution logs:\u001b[0m\n",
       "Username: developer, Password: C1sco12345\n",
       "\n",
       "Out: None\n"
      ]
     },
     "metadata": {},
     "output_type": "display_data"
    },
    {
     "data": {
      "text/html": [
       "<pre style=\"white-space:pre;overflow-x:auto;line-height:normal;font-family:Menlo,'DejaVu Sans Mono',consolas,'Courier New',monospace\"><span style=\"color: #7f7f7f; text-decoration-color: #7f7f7f\">[Step 0: Duration 9.13 seconds| Input tokens: 2,563 | Output tokens: 115]</span>\n",
       "</pre>\n"
      ],
      "text/plain": [
       "\u001b[2m[Step 0: Duration 9.13 seconds| Input tokens: 2,563 | Output tokens: 115]\u001b[0m\n"
      ]
     },
     "metadata": {},
     "output_type": "display_data"
    },
    {
     "data": {
      "text/html": [
       "<pre style=\"white-space:pre;overflow-x:auto;line-height:normal;font-family:Menlo,'DejaVu Sans Mono',consolas,'Courier New',monospace\"><span style=\"color: #d4b702; text-decoration-color: #d4b702\">━━━━━━━━━━━━━━━━━━━━━━━━━━━━━━━━━━━━━━━━━━━━━━━━━━━━━ </span><span style=\"font-weight: bold\">Step </span><span style=\"color: #008080; text-decoration-color: #008080; font-weight: bold\">2</span><span style=\"color: #d4b702; text-decoration-color: #d4b702\"> ━━━━━━━━━━━━━━━━━━━━━━━━━━━━━━━━━━━━━━━━━━━━━━━━━━━━━━</span>\n",
       "</pre>\n"
      ],
      "text/plain": [
       "\u001b[38;2;212;183;2m━━━━━━━━━━━━━━━━━━━━━━━━━━━━━━━━━━━━━━━━━━━━━━━━━━━━━ \u001b[0m\u001b[1mStep \u001b[0m\u001b[1;36m2\u001b[0m\u001b[38;2;212;183;2m ━━━━━━━━━━━━━━━━━━━━━━━━━━━━━━━━━━━━━━━━━━━━━━━━━━━━━━\u001b[0m\n"
      ]
     },
     "metadata": {},
     "output_type": "display_data"
    },
    {
     "data": {
      "text/html": [
       "<pre style=\"white-space:pre;overflow-x:auto;line-height:normal;font-family:Menlo,'DejaVu Sans Mono',consolas,'Courier New',monospace\"> ─ <span style=\"font-weight: bold\">Executing parsed code:</span> ──────────────────────────────────────────────────────────────────────────────────────── \n",
       "  <span style=\"color: #f8f8f2; text-decoration-color: #f8f8f2; background-color: #272822\">username </span><span style=\"color: #ff4689; text-decoration-color: #ff4689; background-color: #272822\">=</span><span style=\"color: #f8f8f2; text-decoration-color: #f8f8f2; background-color: #272822\"> </span><span style=\"color: #e6db74; text-decoration-color: #e6db74; background-color: #272822\">\"developer\"</span><span style=\"background-color: #272822\">                                                                                         </span>  \n",
       "  <span style=\"color: #f8f8f2; text-decoration-color: #f8f8f2; background-color: #272822\">password </span><span style=\"color: #ff4689; text-decoration-color: #ff4689; background-color: #272822\">=</span><span style=\"color: #f8f8f2; text-decoration-color: #f8f8f2; background-color: #272822\"> </span><span style=\"color: #e6db74; text-decoration-color: #e6db74; background-color: #272822\">\"C1sco12345\"</span><span style=\"background-color: #272822\">                                                                                        </span>  \n",
       "  <span style=\"background-color: #272822\">                                                                                                               </span>  \n",
       "  <span style=\"color: #f8f8f2; text-decoration-color: #f8f8f2; background-color: #272822\">routing_table_info </span><span style=\"color: #ff4689; text-decoration-color: #ff4689; background-color: #272822\">=</span><span style=\"color: #f8f8f2; text-decoration-color: #f8f8f2; background-color: #272822\"> show_ip_route(host</span><span style=\"color: #ff4689; text-decoration-color: #ff4689; background-color: #272822\">=</span><span style=\"color: #f8f8f2; text-decoration-color: #f8f8f2; background-color: #272822\">device_ip, username</span><span style=\"color: #ff4689; text-decoration-color: #ff4689; background-color: #272822\">=</span><span style=\"color: #f8f8f2; text-decoration-color: #f8f8f2; background-color: #272822\">username, password</span><span style=\"color: #ff4689; text-decoration-color: #ff4689; background-color: #272822\">=</span><span style=\"color: #f8f8f2; text-decoration-color: #f8f8f2; background-color: #272822\">password)</span><span style=\"background-color: #272822\">                       </span>  \n",
       "  <span style=\"color: #f8f8f2; text-decoration-color: #f8f8f2; background-color: #272822\">print(routing_table_info)</span><span style=\"background-color: #272822\">                                                                                      </span>  \n",
       " ───────────────────────────────────────────────────────────────────────────────────────────────────────────────── \n",
       "</pre>\n"
      ],
      "text/plain": [
       " ─ \u001b[1mExecuting parsed code:\u001b[0m ──────────────────────────────────────────────────────────────────────────────────────── \n",
       "  \u001b[38;2;248;248;242;48;2;39;40;34musername\u001b[0m\u001b[38;2;248;248;242;48;2;39;40;34m \u001b[0m\u001b[38;2;255;70;137;48;2;39;40;34m=\u001b[0m\u001b[38;2;248;248;242;48;2;39;40;34m \u001b[0m\u001b[38;2;230;219;116;48;2;39;40;34m\"\u001b[0m\u001b[38;2;230;219;116;48;2;39;40;34mdeveloper\u001b[0m\u001b[38;2;230;219;116;48;2;39;40;34m\"\u001b[0m\u001b[48;2;39;40;34m                                                                                         \u001b[0m  \n",
       "  \u001b[38;2;248;248;242;48;2;39;40;34mpassword\u001b[0m\u001b[38;2;248;248;242;48;2;39;40;34m \u001b[0m\u001b[38;2;255;70;137;48;2;39;40;34m=\u001b[0m\u001b[38;2;248;248;242;48;2;39;40;34m \u001b[0m\u001b[38;2;230;219;116;48;2;39;40;34m\"\u001b[0m\u001b[38;2;230;219;116;48;2;39;40;34mC1sco12345\u001b[0m\u001b[38;2;230;219;116;48;2;39;40;34m\"\u001b[0m\u001b[48;2;39;40;34m                                                                                        \u001b[0m  \n",
       "  \u001b[48;2;39;40;34m                                                                                                               \u001b[0m  \n",
       "  \u001b[38;2;248;248;242;48;2;39;40;34mrouting_table_info\u001b[0m\u001b[38;2;248;248;242;48;2;39;40;34m \u001b[0m\u001b[38;2;255;70;137;48;2;39;40;34m=\u001b[0m\u001b[38;2;248;248;242;48;2;39;40;34m \u001b[0m\u001b[38;2;248;248;242;48;2;39;40;34mshow_ip_route\u001b[0m\u001b[38;2;248;248;242;48;2;39;40;34m(\u001b[0m\u001b[38;2;248;248;242;48;2;39;40;34mhost\u001b[0m\u001b[38;2;255;70;137;48;2;39;40;34m=\u001b[0m\u001b[38;2;248;248;242;48;2;39;40;34mdevice_ip\u001b[0m\u001b[38;2;248;248;242;48;2;39;40;34m,\u001b[0m\u001b[38;2;248;248;242;48;2;39;40;34m \u001b[0m\u001b[38;2;248;248;242;48;2;39;40;34musername\u001b[0m\u001b[38;2;255;70;137;48;2;39;40;34m=\u001b[0m\u001b[38;2;248;248;242;48;2;39;40;34musername\u001b[0m\u001b[38;2;248;248;242;48;2;39;40;34m,\u001b[0m\u001b[38;2;248;248;242;48;2;39;40;34m \u001b[0m\u001b[38;2;248;248;242;48;2;39;40;34mpassword\u001b[0m\u001b[38;2;255;70;137;48;2;39;40;34m=\u001b[0m\u001b[38;2;248;248;242;48;2;39;40;34mpassword\u001b[0m\u001b[38;2;248;248;242;48;2;39;40;34m)\u001b[0m\u001b[48;2;39;40;34m                       \u001b[0m  \n",
       "  \u001b[38;2;248;248;242;48;2;39;40;34mprint\u001b[0m\u001b[38;2;248;248;242;48;2;39;40;34m(\u001b[0m\u001b[38;2;248;248;242;48;2;39;40;34mrouting_table_info\u001b[0m\u001b[38;2;248;248;242;48;2;39;40;34m)\u001b[0m\u001b[48;2;39;40;34m                                                                                      \u001b[0m  \n",
       " ───────────────────────────────────────────────────────────────────────────────────────────────────────────────── \n"
      ]
     },
     "metadata": {},
     "output_type": "display_data"
    },
    {
     "data": {
      "text/html": [
       "<pre style=\"white-space:pre;overflow-x:auto;line-height:normal;font-family:Menlo,'DejaVu Sans Mono',consolas,'Courier New',monospace\"><span style=\"font-weight: bold\">Execution logs:</span>\n",
       "Codes: L - local, C - connected, S - static, R - RIP, M - mobile, B - BGP\n",
       "       D - EIGRP, EX - EIGRP external, O - OSPF, IA - OSPF inter area \n",
       "       N1 - OSPF NSSA external type 1, N2 - OSPF NSSA external type 2\n",
       "       E1 - OSPF external type 1, E2 - OSPF external type 2, m - OMP\n",
       "       n - NAT, Ni - NAT inside, No - NAT outside, Nd - NAT DIA\n",
       "       i - IS-IS, su - IS-IS summary, L1 - IS-IS level-1, L2 - IS-IS level-2\n",
       "       ia - IS-IS inter area, * - candidate default, U - per-user static route\n",
       "       H - NHRP, G - NHRP registered, g - NHRP registration summary\n",
       "       o - ODR, P - periodic downloaded static route, l - LISP\n",
       "       a - application route\n",
       "       + - replicated route, % - next hop override, p - overrides from PfR\n",
       "       &amp; - replicated local route overrides by connected\n",
       "\n",
       "Gateway of last resort is 10.10.20.254 to network 0.0.0.0\n",
       "\n",
       "S*    0.0.0.0/0 [1/0] via 10.10.20.254, GigabitEthernet1\n",
       "      10.0.0.0/8 is variably subnetted, 6 subnets, 2 masks\n",
       "C        10.0.0.0/24 is directly connected, Loopback0\n",
       "L        10.0.0.1/32 is directly connected, Loopback0\n",
       "C        10.10.20.0/24 is directly connected, GigabitEthernet1\n",
       "L        10.10.20.48/32 is directly connected, GigabitEthernet1\n",
       "C        10.255.255.0/24 is directly connected, Loopback109\n",
       "L        10.255.255.9/32 is directly connected, Loopback109\n",
       "      192.168.1.0/24 is variably subnetted, 2 subnets, 2 masks\n",
       "C        192.168.1.0/24 is directly connected, VirtualPortGroup0\n",
       "L        192.168.1.1/32 is directly connected, VirtualPortGroup0\n",
       "\n",
       "Out: None\n",
       "</pre>\n"
      ],
      "text/plain": [
       "\u001b[1mExecution logs:\u001b[0m\n",
       "Codes: L - local, C - connected, S - static, R - RIP, M - mobile, B - BGP\n",
       "       D - EIGRP, EX - EIGRP external, O - OSPF, IA - OSPF inter area \n",
       "       N1 - OSPF NSSA external type 1, N2 - OSPF NSSA external type 2\n",
       "       E1 - OSPF external type 1, E2 - OSPF external type 2, m - OMP\n",
       "       n - NAT, Ni - NAT inside, No - NAT outside, Nd - NAT DIA\n",
       "       i - IS-IS, su - IS-IS summary, L1 - IS-IS level-1, L2 - IS-IS level-2\n",
       "       ia - IS-IS inter area, * - candidate default, U - per-user static route\n",
       "       H - NHRP, G - NHRP registered, g - NHRP registration summary\n",
       "       o - ODR, P - periodic downloaded static route, l - LISP\n",
       "       a - application route\n",
       "       + - replicated route, % - next hop override, p - overrides from PfR\n",
       "       & - replicated local route overrides by connected\n",
       "\n",
       "Gateway of last resort is 10.10.20.254 to network 0.0.0.0\n",
       "\n",
       "S*    0.0.0.0/0 [1/0] via 10.10.20.254, GigabitEthernet1\n",
       "      10.0.0.0/8 is variably subnetted, 6 subnets, 2 masks\n",
       "C        10.0.0.0/24 is directly connected, Loopback0\n",
       "L        10.0.0.1/32 is directly connected, Loopback0\n",
       "C        10.10.20.0/24 is directly connected, GigabitEthernet1\n",
       "L        10.10.20.48/32 is directly connected, GigabitEthernet1\n",
       "C        10.255.255.0/24 is directly connected, Loopback109\n",
       "L        10.255.255.9/32 is directly connected, Loopback109\n",
       "      192.168.1.0/24 is variably subnetted, 2 subnets, 2 masks\n",
       "C        192.168.1.0/24 is directly connected, VirtualPortGroup0\n",
       "L        192.168.1.1/32 is directly connected, VirtualPortGroup0\n",
       "\n",
       "Out: None\n"
      ]
     },
     "metadata": {},
     "output_type": "display_data"
    },
    {
     "data": {
      "text/html": [
       "<pre style=\"white-space:pre;overflow-x:auto;line-height:normal;font-family:Menlo,'DejaVu Sans Mono',consolas,'Courier New',monospace\"><span style=\"color: #7f7f7f; text-decoration-color: #7f7f7f\">[Step 1: Duration 10.00 seconds| Input tokens: 5,436 | Output tokens: 219]</span>\n",
       "</pre>\n"
      ],
      "text/plain": [
       "\u001b[2m[Step 1: Duration 10.00 seconds| Input tokens: 5,436 | Output tokens: 219]\u001b[0m\n"
      ]
     },
     "metadata": {},
     "output_type": "display_data"
    },
    {
     "data": {
      "text/html": [
       "<pre style=\"white-space:pre;overflow-x:auto;line-height:normal;font-family:Menlo,'DejaVu Sans Mono',consolas,'Courier New',monospace\"><span style=\"color: #d4b702; text-decoration-color: #d4b702\">━━━━━━━━━━━━━━━━━━━━━━━━━━━━━━━━━━━━━━━━━━━━━━━━━━━━━ </span><span style=\"font-weight: bold\">Step </span><span style=\"color: #008080; text-decoration-color: #008080; font-weight: bold\">3</span><span style=\"color: #d4b702; text-decoration-color: #d4b702\"> ━━━━━━━━━━━━━━━━━━━━━━━━━━━━━━━━━━━━━━━━━━━━━━━━━━━━━━</span>\n",
       "</pre>\n"
      ],
      "text/plain": [
       "\u001b[38;2;212;183;2m━━━━━━━━━━━━━━━━━━━━━━━━━━━━━━━━━━━━━━━━━━━━━━━━━━━━━ \u001b[0m\u001b[1mStep \u001b[0m\u001b[1;36m3\u001b[0m\u001b[38;2;212;183;2m ━━━━━━━━━━━━━━━━━━━━━━━━━━━━━━━━━━━━━━━━━━━━━━━━━━━━━━\u001b[0m\n"
      ]
     },
     "metadata": {},
     "output_type": "display_data"
    },
    {
     "data": {
      "text/html": [
       "<pre style=\"white-space:pre;overflow-x:auto;line-height:normal;font-family:Menlo,'DejaVu Sans Mono',consolas,'Courier New',monospace\"> ─ <span style=\"font-weight: bold\">Executing parsed code:</span> ──────────────────────────────────────────────────────────────────────────────────────── \n",
       "  <span style=\"color: #959077; text-decoration-color: #959077; background-color: #272822\"># Define the routing table content as a string</span><span style=\"background-color: #272822\">                                                                 </span>  \n",
       "  <span style=\"color: #f8f8f2; text-decoration-color: #f8f8f2; background-color: #272822\">routing_table_content </span><span style=\"color: #ff4689; text-decoration-color: #ff4689; background-color: #272822\">=</span><span style=\"color: #f8f8f2; text-decoration-color: #f8f8f2; background-color: #272822\"> </span><span style=\"color: #e6db74; text-decoration-color: #e6db74; background-color: #272822\">\"\"\"</span><span style=\"background-color: #272822\">                                                                                    </span>  \n",
       "  <span style=\"color: #e6db74; text-decoration-color: #e6db74; background-color: #272822\">Gateway of last resort is 10.10.20.254 to network 0.0.0.0</span><span style=\"background-color: #272822\">                                                      </span>  \n",
       "  <span style=\"background-color: #272822\">                                                                                                               </span>  \n",
       "  <span style=\"color: #e6db74; text-decoration-color: #e6db74; background-color: #272822\">S*    0.0.0.0/0 [1/0] via 10.10.20.254, GigabitEthernet1</span><span style=\"background-color: #272822\">                                                       </span>  \n",
       "  <span style=\"color: #e6db74; text-decoration-color: #e6db74; background-color: #272822\">      10.0.0.0/8 is variably subnetted, 6 subnets, 2 masks</span><span style=\"background-color: #272822\">                                                     </span>  \n",
       "  <span style=\"color: #e6db74; text-decoration-color: #e6db74; background-color: #272822\">C        10.0.0.0/24 is directly connected, Loopback0</span><span style=\"background-color: #272822\">                                                          </span>  \n",
       "  <span style=\"color: #e6db74; text-decoration-color: #e6db74; background-color: #272822\">L        10.0.0.1/32 is directly connected, Loopback0</span><span style=\"background-color: #272822\">                                                          </span>  \n",
       "  <span style=\"color: #e6db74; text-decoration-color: #e6db74; background-color: #272822\">C        10.10.20.0/24 is directly connected, GigabitEthernet1</span><span style=\"background-color: #272822\">                                                 </span>  \n",
       "  <span style=\"color: #e6db74; text-decoration-color: #e6db74; background-color: #272822\">L        10.10.20.48/32 is directly connected, GigabitEthernet1</span><span style=\"background-color: #272822\">                                                </span>  \n",
       "  <span style=\"color: #e6db74; text-decoration-color: #e6db74; background-color: #272822\">C        10.255.255.0/24 is directly connected, Loopback109</span><span style=\"background-color: #272822\">                                                    </span>  \n",
       "  <span style=\"color: #e6db74; text-decoration-color: #e6db74; background-color: #272822\">L        10.255.255.9/32 is directly connected, Loopback109</span><span style=\"background-color: #272822\">                                                    </span>  \n",
       "  <span style=\"color: #e6db74; text-decoration-color: #e6db74; background-color: #272822\">      192.168.1.0/24 is variably subnetted, 2 subnets, 2 masks</span><span style=\"background-color: #272822\">                                                 </span>  \n",
       "  <span style=\"color: #e6db74; text-decoration-color: #e6db74; background-color: #272822\">C        192.168.1.0/24 is directly connected, VirtualPortGroup0</span><span style=\"background-color: #272822\">                                               </span>  \n",
       "  <span style=\"color: #e6db74; text-decoration-color: #e6db74; background-color: #272822\">L        192.168.1.1/32 is directly connected, VirtualPortGroup0</span><span style=\"background-color: #272822\">                                               </span>  \n",
       "  <span style=\"color: #e6db74; text-decoration-color: #e6db74; background-color: #272822\">\"\"\"</span><span style=\"background-color: #272822\">                                                                                                            </span>  \n",
       "  <span style=\"background-color: #272822\">                                                                                                               </span>  \n",
       "  <span style=\"color: #959077; text-decoration-color: #959077; background-color: #272822\"># Save the routing table content to a Markdown file</span><span style=\"background-color: #272822\">                                                            </span>  \n",
       "  <span style=\"color: #66d9ef; text-decoration-color: #66d9ef; background-color: #272822\">with</span><span style=\"color: #f8f8f2; text-decoration-color: #f8f8f2; background-color: #272822\"> open(</span><span style=\"color: #e6db74; text-decoration-color: #e6db74; background-color: #272822\">'routing_table_summary.md'</span><span style=\"color: #f8f8f2; text-decoration-color: #f8f8f2; background-color: #272822\">, </span><span style=\"color: #e6db74; text-decoration-color: #e6db74; background-color: #272822\">'w'</span><span style=\"color: #f8f8f2; text-decoration-color: #f8f8f2; background-color: #272822\">) </span><span style=\"color: #66d9ef; text-decoration-color: #66d9ef; background-color: #272822\">as</span><span style=\"color: #f8f8f2; text-decoration-color: #f8f8f2; background-color: #272822\"> f:</span><span style=\"background-color: #272822\">                                                               </span>  \n",
       "  <span style=\"color: #f8f8f2; text-decoration-color: #f8f8f2; background-color: #272822\">    f</span><span style=\"color: #ff4689; text-decoration-color: #ff4689; background-color: #272822\">.</span><span style=\"color: #f8f8f2; text-decoration-color: #f8f8f2; background-color: #272822\">write(</span><span style=\"color: #e6db74; text-decoration-color: #e6db74; background-color: #272822\">\"# Routing Table Summary</span><span style=\"color: #ae81ff; text-decoration-color: #ae81ff; background-color: #272822\">\\n</span><span style=\"color: #e6db74; text-decoration-color: #e6db74; background-color: #272822\">\"</span><span style=\"color: #f8f8f2; text-decoration-color: #f8f8f2; background-color: #272822\">)</span><span style=\"background-color: #272822\">                                                                       </span>  \n",
       "  <span style=\"color: #f8f8f2; text-decoration-color: #f8f8f2; background-color: #272822\">    f</span><span style=\"color: #ff4689; text-decoration-color: #ff4689; background-color: #272822\">.</span><span style=\"color: #f8f8f2; text-decoration-color: #f8f8f2; background-color: #272822\">write(routing_table_content)</span><span style=\"background-color: #272822\">                                                                             </span>  \n",
       "  <span style=\"background-color: #272822\">                                                                                                               </span>  \n",
       "  <span style=\"color: #f8f8f2; text-decoration-color: #f8f8f2; background-color: #272822\">final_answer(</span><span style=\"color: #e6db74; text-decoration-color: #e6db74; background-color: #272822\">\"Summary of the routing table has been saved in routing_table_summary.md.\"</span><span style=\"color: #f8f8f2; text-decoration-color: #f8f8f2; background-color: #272822\">)</span><span style=\"background-color: #272822\">                       </span>  \n",
       " ───────────────────────────────────────────────────────────────────────────────────────────────────────────────── \n",
       "</pre>\n"
      ],
      "text/plain": [
       " ─ \u001b[1mExecuting parsed code:\u001b[0m ──────────────────────────────────────────────────────────────────────────────────────── \n",
       "  \u001b[38;2;149;144;119;48;2;39;40;34m# Define the routing table content as a string\u001b[0m\u001b[48;2;39;40;34m                                                                 \u001b[0m  \n",
       "  \u001b[38;2;248;248;242;48;2;39;40;34mrouting_table_content\u001b[0m\u001b[38;2;248;248;242;48;2;39;40;34m \u001b[0m\u001b[38;2;255;70;137;48;2;39;40;34m=\u001b[0m\u001b[38;2;248;248;242;48;2;39;40;34m \u001b[0m\u001b[38;2;230;219;116;48;2;39;40;34m\"\"\"\u001b[0m\u001b[48;2;39;40;34m                                                                                    \u001b[0m  \n",
       "  \u001b[38;2;230;219;116;48;2;39;40;34mGateway of last resort is 10.10.20.254 to network 0.0.0.0\u001b[0m\u001b[48;2;39;40;34m                                                      \u001b[0m  \n",
       "  \u001b[48;2;39;40;34m                                                                                                               \u001b[0m  \n",
       "  \u001b[38;2;230;219;116;48;2;39;40;34mS*    0.0.0.0/0 [1/0] via 10.10.20.254, GigabitEthernet1\u001b[0m\u001b[48;2;39;40;34m                                                       \u001b[0m  \n",
       "  \u001b[38;2;230;219;116;48;2;39;40;34m      10.0.0.0/8 is variably subnetted, 6 subnets, 2 masks\u001b[0m\u001b[48;2;39;40;34m                                                     \u001b[0m  \n",
       "  \u001b[38;2;230;219;116;48;2;39;40;34mC        10.0.0.0/24 is directly connected, Loopback0\u001b[0m\u001b[48;2;39;40;34m                                                          \u001b[0m  \n",
       "  \u001b[38;2;230;219;116;48;2;39;40;34mL        10.0.0.1/32 is directly connected, Loopback0\u001b[0m\u001b[48;2;39;40;34m                                                          \u001b[0m  \n",
       "  \u001b[38;2;230;219;116;48;2;39;40;34mC        10.10.20.0/24 is directly connected, GigabitEthernet1\u001b[0m\u001b[48;2;39;40;34m                                                 \u001b[0m  \n",
       "  \u001b[38;2;230;219;116;48;2;39;40;34mL        10.10.20.48/32 is directly connected, GigabitEthernet1\u001b[0m\u001b[48;2;39;40;34m                                                \u001b[0m  \n",
       "  \u001b[38;2;230;219;116;48;2;39;40;34mC        10.255.255.0/24 is directly connected, Loopback109\u001b[0m\u001b[48;2;39;40;34m                                                    \u001b[0m  \n",
       "  \u001b[38;2;230;219;116;48;2;39;40;34mL        10.255.255.9/32 is directly connected, Loopback109\u001b[0m\u001b[48;2;39;40;34m                                                    \u001b[0m  \n",
       "  \u001b[38;2;230;219;116;48;2;39;40;34m      192.168.1.0/24 is variably subnetted, 2 subnets, 2 masks\u001b[0m\u001b[48;2;39;40;34m                                                 \u001b[0m  \n",
       "  \u001b[38;2;230;219;116;48;2;39;40;34mC        192.168.1.0/24 is directly connected, VirtualPortGroup0\u001b[0m\u001b[48;2;39;40;34m                                               \u001b[0m  \n",
       "  \u001b[38;2;230;219;116;48;2;39;40;34mL        192.168.1.1/32 is directly connected, VirtualPortGroup0\u001b[0m\u001b[48;2;39;40;34m                                               \u001b[0m  \n",
       "  \u001b[38;2;230;219;116;48;2;39;40;34m\"\"\"\u001b[0m\u001b[48;2;39;40;34m                                                                                                            \u001b[0m  \n",
       "  \u001b[48;2;39;40;34m                                                                                                               \u001b[0m  \n",
       "  \u001b[38;2;149;144;119;48;2;39;40;34m# Save the routing table content to a Markdown file\u001b[0m\u001b[48;2;39;40;34m                                                            \u001b[0m  \n",
       "  \u001b[38;2;102;217;239;48;2;39;40;34mwith\u001b[0m\u001b[38;2;248;248;242;48;2;39;40;34m \u001b[0m\u001b[38;2;248;248;242;48;2;39;40;34mopen\u001b[0m\u001b[38;2;248;248;242;48;2;39;40;34m(\u001b[0m\u001b[38;2;230;219;116;48;2;39;40;34m'\u001b[0m\u001b[38;2;230;219;116;48;2;39;40;34mrouting_table_summary.md\u001b[0m\u001b[38;2;230;219;116;48;2;39;40;34m'\u001b[0m\u001b[38;2;248;248;242;48;2;39;40;34m,\u001b[0m\u001b[38;2;248;248;242;48;2;39;40;34m \u001b[0m\u001b[38;2;230;219;116;48;2;39;40;34m'\u001b[0m\u001b[38;2;230;219;116;48;2;39;40;34mw\u001b[0m\u001b[38;2;230;219;116;48;2;39;40;34m'\u001b[0m\u001b[38;2;248;248;242;48;2;39;40;34m)\u001b[0m\u001b[38;2;248;248;242;48;2;39;40;34m \u001b[0m\u001b[38;2;102;217;239;48;2;39;40;34mas\u001b[0m\u001b[38;2;248;248;242;48;2;39;40;34m \u001b[0m\u001b[38;2;248;248;242;48;2;39;40;34mf\u001b[0m\u001b[38;2;248;248;242;48;2;39;40;34m:\u001b[0m\u001b[48;2;39;40;34m                                                               \u001b[0m  \n",
       "  \u001b[38;2;248;248;242;48;2;39;40;34m    \u001b[0m\u001b[38;2;248;248;242;48;2;39;40;34mf\u001b[0m\u001b[38;2;255;70;137;48;2;39;40;34m.\u001b[0m\u001b[38;2;248;248;242;48;2;39;40;34mwrite\u001b[0m\u001b[38;2;248;248;242;48;2;39;40;34m(\u001b[0m\u001b[38;2;230;219;116;48;2;39;40;34m\"\u001b[0m\u001b[38;2;230;219;116;48;2;39;40;34m# Routing Table Summary\u001b[0m\u001b[38;2;174;129;255;48;2;39;40;34m\\n\u001b[0m\u001b[38;2;230;219;116;48;2;39;40;34m\"\u001b[0m\u001b[38;2;248;248;242;48;2;39;40;34m)\u001b[0m\u001b[48;2;39;40;34m                                                                       \u001b[0m  \n",
       "  \u001b[38;2;248;248;242;48;2;39;40;34m    \u001b[0m\u001b[38;2;248;248;242;48;2;39;40;34mf\u001b[0m\u001b[38;2;255;70;137;48;2;39;40;34m.\u001b[0m\u001b[38;2;248;248;242;48;2;39;40;34mwrite\u001b[0m\u001b[38;2;248;248;242;48;2;39;40;34m(\u001b[0m\u001b[38;2;248;248;242;48;2;39;40;34mrouting_table_content\u001b[0m\u001b[38;2;248;248;242;48;2;39;40;34m)\u001b[0m\u001b[48;2;39;40;34m                                                                             \u001b[0m  \n",
       "  \u001b[48;2;39;40;34m                                                                                                               \u001b[0m  \n",
       "  \u001b[38;2;248;248;242;48;2;39;40;34mfinal_answer\u001b[0m\u001b[38;2;248;248;242;48;2;39;40;34m(\u001b[0m\u001b[38;2;230;219;116;48;2;39;40;34m\"\u001b[0m\u001b[38;2;230;219;116;48;2;39;40;34mSummary of the routing table has been saved in routing_table_summary.md.\u001b[0m\u001b[38;2;230;219;116;48;2;39;40;34m\"\u001b[0m\u001b[38;2;248;248;242;48;2;39;40;34m)\u001b[0m\u001b[48;2;39;40;34m                       \u001b[0m  \n",
       " ───────────────────────────────────────────────────────────────────────────────────────────────────────────────── \n"
      ]
     },
     "metadata": {},
     "output_type": "display_data"
    },
    {
     "data": {
      "text/html": [
       "<pre style=\"white-space:pre;overflow-x:auto;line-height:normal;font-family:Menlo,'DejaVu Sans Mono',consolas,'Courier New',monospace\"><span style=\"color: #d4b702; text-decoration-color: #d4b702; font-weight: bold\">Out - Final answer: Summary of the routing table has been saved in routing_table_summary.md.</span>\n",
       "</pre>\n"
      ],
      "text/plain": [
       "\u001b[1;38;2;212;183;2mOut - Final answer: Summary of the routing table has been saved in routing_table_summary.md.\u001b[0m\n"
      ]
     },
     "metadata": {},
     "output_type": "display_data"
    },
    {
     "data": {
      "text/html": [
       "<pre style=\"white-space:pre;overflow-x:auto;line-height:normal;font-family:Menlo,'DejaVu Sans Mono',consolas,'Courier New',monospace\"><span style=\"color: #7f7f7f; text-decoration-color: #7f7f7f\">[Step 2: Duration 56.10 seconds| Input tokens: 9,155 | Output tokens: 1,132]</span>\n",
       "</pre>\n"
      ],
      "text/plain": [
       "\u001b[2m[Step 2: Duration 56.10 seconds| Input tokens: 9,155 | Output tokens: 1,132]\u001b[0m\n"
      ]
     },
     "metadata": {},
     "output_type": "display_data"
    },
    {
     "data": {
      "text/plain": [
       "'Summary of the routing table has been saved in routing_table_summary.md.'"
      ]
     },
     "execution_count": 6,
     "metadata": {},
     "output_type": "execute_result"
    }
   ],
   "source": [
    "from smolagents.agents import CodeAgent\n",
    "from smolagents import LiteLLMModel\n",
    "\n",
    "model = LiteLLMModel(model_id=\"ollama/qwen2.5\",\n",
    "                     num_ctx=8192)\n",
    "\n",
    "device_agent = CodeAgent(tools=[get_username_password_for_device,\n",
    "                         show_ip_route],\n",
    "                  model=model,\n",
    "                  additional_authorized_imports=['ncclient', 'netmiko','requests','paramiko','io'],\n",
    "                 )\n",
    "# give the sandboxed Python interpreter access to read/write files outside (use with caution!)\n",
    "device_agent.python_executor.static_tools[\"open\"] = open\n",
    "\n",
    "# Routing Table Summary as Markdown\n",
    "device_agent.run(\"\"\"\n",
    "                 Summarize the routing table on the Cisco device 10.10.20.48.\n",
    "                 Save it in the Markdown file 'routing_table_summary.md'.\n",
    "                 You will at first need the username and password for the device.\n",
    "                 \"\"\")"
   ]
  },
  {
   "cell_type": "markdown",
   "metadata": {},
   "source": [
    "**Expected results**: After execution, the LLM intelligently calls `get_username_password_for_device` first and then `show_running_configuration` based on your prompt. You should see the summary of the routing table in the newly created file `routing_table_summary.md` which should be located in our project folder."
   ]
  },
  {
   "cell_type": "markdown",
   "metadata": {},
   "source": [
    "### 3.3 Structured Output with LLMs"
   ]
  },
  {
   "cell_type": "markdown",
   "metadata": {},
   "source": [
    "Let's understand structured outputs with the following code. At first, we define just one function which returns a show command on the device. Execute this cell, there should be no output."
   ]
  },
  {
   "cell_type": "code",
   "execution_count": 7,
   "metadata": {
    "vscode": {
     "languageId": "javascript"
    }
   },
   "outputs": [],
   "source": [
    "def run_ios_show_command_on_device_trusted(show_command:str,host:str) -> str:\n",
    "    \"\"\"\n",
    "    Returns the output of the provided show command from the device with the given host, username, password, and device type.\n",
    "\n",
    "    Args:\n",
    "        show_command: The show command to run on the device\n",
    "        host: The IP address or hostname of the device\n",
    "        device_type: The device type for the device\n",
    "\n",
    "    Returns:\n",
    "        str: Output of the provided show command\n",
    "    \"\"\"\n",
    "    print(\"Running show command on device...\")\n",
    "\n",
    "    from netmiko import ConnectHandler\n",
    "    import json\n",
    "\n",
    "    with open(\"hosts.json\", 'r') as file:\n",
    "        devices = json.load(file)\n",
    "        username = devices[host][\"username\"]\n",
    "        password = devices[host][\"password\"]\n",
    "                                                          \n",
    "    device = {                                                                                                                                                                 \n",
    "        'ip': host,                                                                                                                                                   \n",
    "        'username': username,                                                                                                                                                  \n",
    "        'password': password,                                                                                                                                                  \n",
    "        'device_type': \"cisco_ios\",                                                                                        \n",
    "    }                                                                                                                                                                          \n",
    "                                                                                                                                                                                \n",
    "    # Establish connection to the device                                                                                                                                       \n",
    "    connection = ConnectHandler(**device)\n",
    "\n",
    "    if show_command.startswith(\"show\") or show_command.startswith(\"sh\"):\n",
    "        # Execute command to retrieve running configuration                                                                                                                        \n",
    "        running_config_output = connection.send_command(show_command)\n",
    "        print(running_config_output)\n",
    "        return running_config_output\n",
    "    else:\n",
    "        return \"Error! You are only allowed to run show commands. Try again and use a show command.\""
   ]
  },
  {
   "cell_type": "markdown",
   "metadata": {},
   "source": [
    "Then, let's define the output schema at first, the parameters for our prompt:"
   ]
  },
  {
   "cell_type": "code",
   "execution_count": 8,
   "metadata": {
    "vscode": {
     "languageId": "javascript"
    }
   },
   "outputs": [],
   "source": [
    "from pydantic import BaseModel\n",
    "\n",
    "# here we define the model for the response\n",
    "class Cat8000(BaseModel):\n",
    "    ios_version: str\n",
    "    configuration_register: str\n",
    "\n",
    "# define your parameters\n",
    "ios_show_command = \"show version\"\n",
    "device_host = \"10.10.20.48\" # or \"devnetsandboxiosxe.cisco.com\""
   ]
  },
  {
   "cell_type": "markdown",
   "metadata": {},
   "source": [
    "Then let's define our prompts: system + user prompt and tell the LLM how to structure the output and run the query:"
   ]
  },
  {
   "cell_type": "code",
   "execution_count": 11,
   "metadata": {},
   "outputs": [
    {
     "name": "stdout",
     "output_type": "stream",
     "text": [
      "Running show command on device...\n",
      "Cisco IOS XE Software, Version 17.12.02\n",
      "Cisco IOS Software [Dublin], Virtual XE Software (X86_64_LINUX_IOSD-UNIVERSALK9-M), Version 17.12.2, RELEASE SOFTWARE (fc2)\n",
      "Technical Support: http://www.cisco.com/techsupport\n",
      "Copyright (c) 1986-2023 by Cisco Systems, Inc.\n",
      "Compiled Tue 14-Nov-23 05:59 by mcpre\n",
      "\n",
      "\n",
      "Cisco IOS-XE software, Copyright (c) 2005-2023 by cisco Systems, Inc.\n",
      "All rights reserved.  Certain components of Cisco IOS-XE software are\n",
      "licensed under the GNU General Public License (\"GPL\") Version 2.0.  The\n",
      "software code licensed under GPL Version 2.0 is free software that comes\n",
      "with ABSOLUTELY NO WARRANTY.  You can redistribute and/or modify such\n",
      "GPL code under the terms of GPL Version 2.0.  For more details, see the\n",
      "documentation or \"License Notice\" file accompanying the IOS-XE software,\n",
      "or the applicable URL provided on the flyer accompanying the IOS-XE\n",
      "software.\n",
      "\n",
      "\n",
      "ROM: IOS-XE ROMMON\n",
      "\n",
      "cat8000v uptime is 4 days, 12 hours, 33 minutes\n",
      "Uptime for this control processor is 4 days, 12 hours, 36 minutes\n",
      "System returned to ROM by reload\n",
      "System image file is \"bootflash:packages.conf\"\n",
      "Last reload reason: reload\n",
      "\n",
      "\n",
      "\n",
      "This product contains cryptographic features and is subject to United\n",
      "States and local country laws governing import, export, transfer and\n",
      "use. Delivery of Cisco cryptographic products does not imply\n",
      "third-party authority to import, export, distribute or use encryption.\n",
      "Importers, exporters, distributors and users are responsible for\n",
      "compliance with U.S. and local country laws. By using this product you\n",
      "agree to comply with applicable laws and regulations. If you are unable\n",
      "to comply with U.S. and local laws, return this product immediately.\n",
      "\n",
      "A summary of U.S. laws governing Cisco cryptographic products may be found at:\n",
      "http://www.cisco.com/wwl/export/crypto/tool/stqrg.html\n",
      "\n",
      "If you require further assistance please contact us by sending email to\n",
      "export@cisco.com.\n",
      "\n",
      "License Level: \n",
      "License Type: Perpetual\n",
      "Next reload license Level: \n",
      "\n",
      "Addon License Level: \n",
      "Addon License Type: Subscription\n",
      "Next reload addon license Level: \n",
      "\n",
      "The current throughput level is 250000 kbps \n",
      "\n",
      "\n",
      "Smart Licensing Status: Smart Licensing Using Policy\n",
      "\n",
      "cisco C8000V (VXE) processor (revision VXE) with 2030646K/3075K bytes of memory.\n",
      "Processor board ID 9E26CIWRX2R\n",
      "Router operating mode: Autonomous\n",
      "3 Gigabit Ethernet interfaces\n",
      "32768K bytes of non-volatile configuration memory.\n",
      "3960412K bytes of physical memory.\n",
      "5234688K bytes of virtual hard disk at bootflash:.\n",
      "\n",
      "Configuration register is 0x2102\n",
      "\n"
     ]
    }
   ],
   "source": [
    "from ollama import chat\n",
    "\n",
    "response = chat(\n",
    "    messages=[\n",
    "        {\n",
    "        'role': 'system',\n",
    "        'content': 'You are a helpful networking assistant.',\n",
    "    },\n",
    "    {\n",
    "        'role': 'user',\n",
    "        'content': f'''What can you say about my Cisco switch?\n",
    "                    Here is the output of the \"show version\" command:\n",
    "                    {run_ios_show_command_on_device_trusted(ios_show_command,device_host)}''',\n",
    "    }\n",
    "    ],\n",
    "    model='llama3.1',\n",
    "    format=Cat8000.model_json_schema(),\n",
    ")\n",
    "\n",
    "cat8000_instance = Cat8000.model_validate_json(response.message.content)"
   ]
  },
  {
   "cell_type": "code",
   "execution_count": 10,
   "metadata": {},
   "outputs": [
    {
     "name": "stdout",
     "output_type": "stream",
     "text": [
      "LLM response output according to your schema:\n",
      "IOS Version: 17.12.02\n",
      "Config Register: 0x2102\n"
     ]
    }
   ],
   "source": [
    "print(\"LLM response output according to your schema:\")\n",
    "print(f\"IOS Version: {cat8000_instance.ios_version}\")\n",
    "print(f\"Config Register: {cat8000_instance.configuration_register}\")"
   ]
  },
  {
   "cell_type": "markdown",
   "metadata": {},
   "source": [
    "You will see that the LLM is extracting information from the `show version` command according to your define schema."
   ]
  },
  {
   "cell_type": "markdown",
   "metadata": {},
   "source": [
    "# Next steps"
   ]
  },
  {
   "cell_type": "markdown",
   "metadata": {},
   "source": [
    "Check out the use-cases which are stored in the folder **complete examples**! Run them and go through the code to understand the concept and how you can apply them to your environment and use-cases."
   ]
  }
 ],
 "metadata": {
  "kernelspec": {
   "display_name": "Python 3 (ipykernel)",
   "language": "python",
   "name": "python3"
  },
  "language_info": {
   "codemirror_mode": {
    "name": "ipython",
    "version": 3
   },
   "file_extension": ".py",
   "mimetype": "text/x-python",
   "name": "python",
   "nbconvert_exporter": "python",
   "pygments_lexer": "ipython3",
   "version": "3.12.8"
  }
 },
 "nbformat": 4,
 "nbformat_minor": 4
}
